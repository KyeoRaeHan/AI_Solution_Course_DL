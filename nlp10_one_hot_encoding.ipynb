{
  "nbformat": 4,
  "nbformat_minor": 0,
  "metadata": {
    "colab": {
      "name": "nlp10_one-hot-encoding.ipynb",
      "provenance": [],
      "authorship_tag": "ABX9TyMLPqXtgd1dFG9JUOmU9V3m",
      "include_colab_link": true
    },
    "kernelspec": {
      "name": "python3",
      "display_name": "Python 3"
    }
  },
  "cells": [
    {
      "cell_type": "markdown",
      "metadata": {
        "id": "view-in-github",
        "colab_type": "text"
      },
      "source": [
        "<a href=\"https://colab.research.google.com/github/KyeoRaeHan/AI_Solution_Course_DL/blob/main/nlp10_one_hot_encoding.ipynb\" target=\"_parent\"><img src=\"https://colab.research.google.com/assets/colab-badge.svg\" alt=\"Open In Colab\"/></a>"
      ]
    },
    {
      "cell_type": "markdown",
      "metadata": {
        "id": "C3u88JpmuQ7G"
      },
      "source": [
        "### 단어와 문자의 원-핫 인코딩\n",
        "\n",
        "넘파이를 이용한 원-핫 인코딩\n",
        "\n",
        "- 원-핫 인코딩은 토큰을 벡터로 변환하는 가장 일반적이고 기본적인 방법입니다.\n",
        "- 모든 단어에 고유한 정수 인덱스를 부여하고 이 정수 인덱스 i를 크기가 N(어휘 사전의 크기)인 이진 벡터로 변환합니다.\n",
        "- 이 벡터는 i번째 원소만 1이고 나머지는 모두 0입니다.\n",
        "- 물론 원-핫 인코딩은 문자 수준에서도 적용할 수 있습니다.\n"
      ]
    },
    {
      "cell_type": "code",
      "metadata": {
        "id": "vXGbtl0wuR_C"
      },
      "source": [
        "import numpy as np\n",
        "\n",
        "samples = ['The cat sat on the mat.','The dog ate my homework.']\n",
        "# 데이터의 모든 token의 index를 담는 dict 생성mport numpy as np\n",
        "\n",
        "samples = ['The cat sat on the mat.','The dog ate my homework.']\n",
        "# 데이터의 모든 token의 index를 담는 dict 생성\n",
        "# 먼저 나오는 단어부터 차례대로 말뭉치 사전 만듬\n",
        "token_index = {}\n",
        "for sample in samples:\n",
        "  for word in sample.split(): #split()함수를 사용하면 단어 단위로 나눠진다.\n",
        "      if word not in token_index:\n",
        "            #인덱스 0부터 시작이기 때문에 1부터 만들어주기위해 +1를 한다.\n",
        "\n",
        "# 먼저 나오는 단어부터 차례대로 말뭉치 사전 만듬\n",
        "token_index = {}\n",
        "for sample in samples:\n",
        "  for word in sample.split(): #split()함수를 사용하면 단어 단위로 나눠진다.\n",
        "    if word not in token_index:\n",
        "      #인덱스 0부터 시작이기 때문에 1부터 만들어주기위해 +1를 한다.\n",
        "      token_index[word] = len(token_index) + 1 \n",
        "\n",
        "max_length = 10\n",
        "\n",
        "# 결과를 저장할 배열\n",
        "# 3차원(2,10,11)\n",
        "results = np.zeros((len(samples), max_length, max(token_index.values()) + 1))\n",
        "\n",
        "for i, sample in enumerate(samples):\n",
        "  for j, word in list(enumerate(sample.split()))[:max_length]:\n",
        "    # get()함수로 value 얻기\n",
        "   index = token_index.get(word)\n",
        "   results[i,j,index] = 1."
      ],
      "execution_count": 3,
      "outputs": []
    },
    {
      "cell_type": "code",
      "metadata": {
        "id": "xW3HtUd2rdEK"
      },
      "source": [
        "a = 'The cat sat on the mat.'"
      ],
      "execution_count": 8,
      "outputs": []
    },
    {
      "cell_type": "code",
      "metadata": {
        "colab": {
          "base_uri": "https://localhost:8080/"
        },
        "id": "jYzlCu8qrRvr",
        "outputId": "e1c2deee-0e59-420d-a7e0-d6358d3ae318"
      },
      "source": [
        "a.split()"
      ],
      "execution_count": 9,
      "outputs": [
        {
          "output_type": "execute_result",
          "data": {
            "text/plain": [
              "['The', 'cat', 'sat', 'on', 'the', 'mat.']"
            ]
          },
          "metadata": {
            "tags": []
          },
          "execution_count": 9
        }
      ]
    },
    {
      "cell_type": "code",
      "metadata": {
        "colab": {
          "base_uri": "https://localhost:8080/"
        },
        "id": "BfqHrv-SrLu-",
        "outputId": "803d6d6a-5c93-47a7-bfc2-cceae7660c54"
      },
      "source": [
        "results"
      ],
      "execution_count": 6,
      "outputs": [
        {
          "output_type": "execute_result",
          "data": {
            "text/plain": [
              "array([[[0., 1., 0., 0., 0., 0., 0., 0., 0., 0., 0.],\n",
              "        [0., 0., 1., 0., 0., 0., 0., 0., 0., 0., 0.],\n",
              "        [0., 0., 0., 1., 0., 0., 0., 0., 0., 0., 0.],\n",
              "        [0., 0., 0., 0., 1., 0., 0., 0., 0., 0., 0.],\n",
              "        [0., 0., 0., 0., 0., 1., 0., 0., 0., 0., 0.],\n",
              "        [0., 0., 0., 0., 0., 0., 1., 0., 0., 0., 0.],\n",
              "        [0., 0., 0., 0., 0., 0., 0., 0., 0., 0., 0.],\n",
              "        [0., 0., 0., 0., 0., 0., 0., 0., 0., 0., 0.],\n",
              "        [0., 0., 0., 0., 0., 0., 0., 0., 0., 0., 0.],\n",
              "        [0., 0., 0., 0., 0., 0., 0., 0., 0., 0., 0.]],\n",
              "\n",
              "       [[0., 1., 0., 0., 0., 0., 0., 0., 0., 0., 0.],\n",
              "        [0., 0., 0., 0., 0., 0., 0., 1., 0., 0., 0.],\n",
              "        [0., 0., 0., 0., 0., 0., 0., 0., 1., 0., 0.],\n",
              "        [0., 0., 0., 0., 0., 0., 0., 0., 0., 1., 0.],\n",
              "        [0., 0., 0., 0., 0., 0., 0., 0., 0., 0., 1.],\n",
              "        [0., 0., 0., 0., 0., 0., 0., 0., 0., 0., 0.],\n",
              "        [0., 0., 0., 0., 0., 0., 0., 0., 0., 0., 0.],\n",
              "        [0., 0., 0., 0., 0., 0., 0., 0., 0., 0., 0.],\n",
              "        [0., 0., 0., 0., 0., 0., 0., 0., 0., 0., 0.],\n",
              "        [0., 0., 0., 0., 0., 0., 0., 0., 0., 0., 0.]]])"
            ]
          },
          "metadata": {
            "tags": []
          },
          "execution_count": 6
        }
      ]
    },
    {
      "cell_type": "code",
      "metadata": {
        "colab": {
          "base_uri": "https://localhost:8080/"
        },
        "id": "_ekdOhe1sc2g",
        "outputId": "d4cf8a7b-5c77-490a-acc1-5ca73c9d9481"
      },
      "source": [
        "token_index.values()"
      ],
      "execution_count": 14,
      "outputs": [
        {
          "output_type": "execute_result",
          "data": {
            "text/plain": [
              "dict_values([1, 2, 3, 4, 5, 6, 7, 8, 9, 10])"
            ]
          },
          "metadata": {
            "tags": []
          },
          "execution_count": 14
        }
      ]
    },
    {
      "cell_type": "code",
      "metadata": {
        "colab": {
          "base_uri": "https://localhost:8080/"
        },
        "id": "AhXXlQqRshQk",
        "outputId": "29527292-fc60-4834-c9ef-f75532e62728"
      },
      "source": [
        "token_index.keys()"
      ],
      "execution_count": 15,
      "outputs": [
        {
          "output_type": "execute_result",
          "data": {
            "text/plain": [
              "dict_keys(['The', 'cat', 'sat', 'on', 'the', 'mat.', 'dog', 'ate', 'my', 'homework.'])"
            ]
          },
          "metadata": {
            "tags": []
          },
          "execution_count": 15
        }
      ]
    },
    {
      "cell_type": "code",
      "metadata": {
        "colab": {
          "base_uri": "https://localhost:8080/"
        },
        "id": "P9g5vVSlw8v1",
        "outputId": "928ce740-793b-4903-c54b-8c4b65263983"
      },
      "source": [
        "max(token_index.values())+1\n",
        "token_index.values()"
      ],
      "execution_count": 16,
      "outputs": [
        {
          "output_type": "execute_result",
          "data": {
            "text/plain": [
              "dict_values([1, 2, 3, 4, 5, 6, 7, 8, 9, 10])"
            ]
          },
          "metadata": {
            "tags": []
          },
          "execution_count": 16
        }
      ]
    },
    {
      "cell_type": "code",
      "metadata": {
        "colab": {
          "base_uri": "https://localhost:8080/"
        },
        "id": "Iu71yueTxgYX",
        "outputId": "54896bff-eb72-4286-eff5-bf8044925a2d"
      },
      "source": [
        "token_index"
      ],
      "execution_count": 17,
      "outputs": [
        {
          "output_type": "execute_result",
          "data": {
            "text/plain": [
              "{'The': 1,\n",
              " 'ate': 8,\n",
              " 'cat': 2,\n",
              " 'dog': 7,\n",
              " 'homework.': 10,\n",
              " 'mat.': 6,\n",
              " 'my': 9,\n",
              " 'on': 4,\n",
              " 'sat': 3,\n",
              " 'the': 5}"
            ]
          },
          "metadata": {
            "tags": []
          },
          "execution_count": 17
        }
      ]
    },
    {
      "cell_type": "code",
      "metadata": {
        "id": "Q7VPs7MnycMW"
      },
      "source": [
        "# 문자 수준 원-핫 인코딩"
      ],
      "execution_count": 18,
      "outputs": []
    },
    {
      "cell_type": "code",
      "metadata": {
        "id": "awZKgt43uMP4"
      },
      "source": [
        "# [파이썬 내장함수]https://wikidocs.net/32#zip"
      ],
      "execution_count": null,
      "outputs": []
    },
    {
      "cell_type": "code",
      "metadata": {
        "id": "e7WCnzesyiFR"
      },
      "source": [
        "import string\n",
        "characters = string.printable # 출력 가능한 모든 아스키 문자\n",
        "token_index = dict(zip(characters, range(1, len(characters) + 1)))\n",
        "\n",
        "max_length = 50\n",
        "results =np.zeros((len(samples), max_length, max(token_index.values())+1))\n",
        "\n",
        "for i, sample in enumerate(samples):\n",
        "  for j, character in enumerate(sample[:max_length]):\n",
        "    index = token_index.get(character)\n",
        "    results[i,j,index] = 1."
      ],
      "execution_count": 19,
      "outputs": []
    },
    {
      "cell_type": "markdown",
      "metadata": {
        "id": "W2d64MZ_2u2f"
      },
      "source": [
        "### 케라스를 사용한 원-핫 인코딩\n",
        "- Keras는 여러 텍스트 문서를 준비하는 데 적합하고 재사용 할 수 있는 텍스트 준비를 위한 보다 정교한 API를 제공합니다.\n",
        "Keras는 딥러닝을 위해 텍스트 문서를 준비하기 위한 Tokenizer 클래스를 제공합니다 .\n",
        "- Tokenizer를 구축하고 원시 텍스트 문서 또는 정수로 인코딩합니다.\n",
        "- Tokenizer가 학습 데이터에 적합하면 테스트 데이터세트의 문서를 인코딩하는 데 사용할 수 있습니다.\n",
        "- Tokenizer의 texts_to_matrix () 함수는 입력별로 제공되는 문서 당 하나의 벡터를 만드는 데 사용할 수 있습니다. 벡터의 길이는 어휘의 전체 크기입니다.\n",
        "- 이 함수는 함수에 대한 모드 인수를 통해 제공될 수 있는 표준 bag-of-word 모델 텍스트 인코딩 체계 모음을 제공\n"
      ]
    },
    {
      "cell_type": "code",
      "metadata": {
        "colab": {
          "base_uri": "https://localhost:8080/"
        },
        "id": "sxUPw-Fi2uFl",
        "outputId": "f1bf88a4-1240-4d77-8f5e-858f619d0262"
      },
      "source": [
        "from keras.preprocessing.text import Tokenizer\n",
        "\n",
        "samples=['The cat sat on the mat.','The dog ate my homework.']\n",
        "\n",
        "# 가장 빈도가 높은(가장 자주 나타나는rom keras.preprocessing.text import Tokenizer\n",
        "\n",
        "samples=['The cat sat on the mat.','The dog ate my homework.']\n",
        "\n",
        "# 가장 빈도가 높은(가장 자주 나타나는) 1,000개의 단어만 선택하도록 Tokenizer 객체를 생성\n",
        "tokenizer = Tokenizer(num_words=1000)\n",
        "\n",
        "# 단어 인덱스를 구축\n",
        "tokenizer.fit_on_texts(samples)\n",
        "\n",
        "# 1,000개의 단어만 선택하도록 Tokenizer 객체를 생성\n",
        "tokenizer = Tokenizer(num_words=1000)\n",
        "\n",
        "# 단어 인덱스를 구축\n",
        "tokenizer.fit_on_texts(samples)\n",
        "\n",
        "# 문자열을 정수 인덱스의 리스트로 변환\n",
        "sequences = tokenizer.texts_to_sequences(samples)\n",
        "\n",
        "one_hot_results = tokenizer.texts_to_matrix(samples, mode='binary')\n",
        "\n",
        "# 계산된 단어 인덱스를 도출\n",
        "word_index = tokenizer.word_index\n",
        "print('Found %s unique tokens' %len(word_index))"
      ],
      "execution_count": 21,
      "outputs": [
        {
          "output_type": "stream",
          "text": [
            "Found 9 unique tokens\n"
          ],
          "name": "stdout"
        }
      ]
    },
    {
      "cell_type": "code",
      "metadata": {
        "colab": {
          "base_uri": "https://localhost:8080/"
        },
        "id": "LHtTZUFw6SaN",
        "outputId": "d60ed657-35cc-4990-ff8b-59100101bacc"
      },
      "source": [
        "print(sequences)\n",
        "print(one_hot_results)\n",
        "# 텍스트가 2문장이므로 행이 2, num_words=1000이므로 열은 1000\n",
        "# 엄청난 희소행렬(sparse matrix)\n",
        "print(one_hot_results.shape)\n",
        "print(word_index)"
      ],
      "execution_count": 22,
      "outputs": [
        {
          "output_type": "stream",
          "text": [
            "[[1, 2, 3, 4, 1, 5], [1, 6, 7, 8, 9]]\n",
            "[[0. 1. 1. ... 0. 0. 0.]\n",
            " [0. 1. 0. ... 0. 0. 0.]]\n",
            "(2, 1000)\n",
            "{'the': 1, 'cat': 2, 'sat': 3, 'on': 4, 'mat': 5, 'dog': 6, 'ate': 7, 'my': 8, 'homework': 9}\n"
          ],
          "name": "stdout"
        }
      ]
    },
    {
      "cell_type": "code",
      "metadata": {
        "colab": {
          "base_uri": "https://localhost:8080/"
        },
        "id": "oOgg3HAl7Y6g",
        "outputId": "1f8d4f14-510a-455f-b1f0-2c5daae49134"
      },
      "source": [
        "# (1,2,3,4,1,5)가 index이므로 원-핫인코딩시, index에만 '1'로 표시, 나머지는 '0'\n",
        "one_hot_results[0][:10]"
      ],
      "execution_count": 23,
      "outputs": [
        {
          "output_type": "execute_result",
          "data": {
            "text/plain": [
              "array([0., 1., 0., 0., 0., 0., 1., 1., 1., 1.])"
            ]
          },
          "metadata": {
            "tags": []
          },
          "execution_count": 23
        }
      ]
    },
    {
      "cell_type": "code",
      "metadata": {
        "colab": {
          "base_uri": "https://localhost:8080/"
        },
        "id": "RzBTVTv8zrE-",
        "outputId": "9668bdc3-ba03-4384-db80-fc6dd21dcc35"
      },
      "source": [
        "one_hot_results[1][:10]"
      ],
      "execution_count": 24,
      "outputs": [
        {
          "output_type": "execute_result",
          "data": {
            "text/plain": [
              "array([0., 1., 0., 0., 0., 0., 1., 1., 1., 1.])"
            ]
          },
          "metadata": {
            "tags": []
          },
          "execution_count": 24
        }
      ]
    }
  ]
}