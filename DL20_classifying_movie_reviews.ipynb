{
  "nbformat": 4,
  "nbformat_minor": 0,
  "metadata": {
    "colab": {
      "name": "DL20_classifying-movie-reviews.ipynb",
      "provenance": [],
      "collapsed_sections": [],
      "authorship_tag": "ABX9TyPgm4aXYjx7WSOFJM155F2V",
      "include_colab_link": true
    },
    "kernelspec": {
      "name": "python3",
      "display_name": "Python 3"
    },
    "accelerator": "GPU"
  },
  "cells": [
    {
      "cell_type": "markdown",
      "metadata": {
        "id": "view-in-github",
        "colab_type": "text"
      },
      "source": [
        "<a href=\"https://colab.research.google.com/github/KyeoRaeHan/AI_Solution_Course_DL/blob/main/DL20_classifying_movie_reviews.ipynb\" target=\"_parent\"><img src=\"https://colab.research.google.com/assets/colab-badge.svg\" alt=\"Open In Colab\"/></a>"
      ]
    },
    {
      "cell_type": "markdown",
      "metadata": {
        "id": "9d8JTokaNgoB"
      },
      "source": [
        "# IMDB 데이터셋\r\n",
        "인터넷 영화 데이터베이스로부터 가져온 양극단의 리뷰 50,000개로 이루어진 IMDB 데이터셋을 사용하겠습니다. 이 데이터셋은 훈련 데이터 25,000개와 테스트 데이터 25,000개로 나뉘어 있고 각각 50%는 부정, 50%는 긍정 리뷰로 구성되어 있습니다.\r\n",
        "\r\n",
        "왜 훈련 데이터와 테스트 데이터를 나눌까요? 같은 데이터에서 머신 러닝 모델을 훈련하고 테스트해서는 절대 안 되기 때문입니다! 모델이 훈련 데이터에서 잘 작동한다는 것이 처음 만난 데이터에서도 잘 동작한다는 것을 보장하지 않습니다. 중요한 것은 새로운 데이터에 대한 모델의 성능입니다(사실 훈련 데이터의 레이블은 이미 알고 있기 때문에 이를 예측하는 모델은 필요하지 않습니다). 예를 들어 모델이 훈련 샘플과 타깃 사이의 매핑을 모두 외워버릴 수 있습니다. 이런 모델은 처음 만나는 데이터에서 타깃을 예측하는 작업에는 쓸모가 없습니다. 다음 장에서 이에 대해 더 자세히 살펴보겠습니다.\r\n",
        "\r\n",
        "MNIST 데이터셋처럼 IMDB 데이터셋도 케라스에 포함되어 있습니다. 이 데이터는 전처리되어 있어 각 리뷰(단어 시퀀스)가 숫자 시퀀스로 변환되어 있습니다. 여기서 각 숫자는 사전에 있는 고유한 단어를 나타냅니다."
      ]
    },
    {
      "cell_type": "code",
      "metadata": {
        "id": "sTQU8SCiNzJi"
      },
      "source": [
        "from keras.datasets import imdb\r\n",
        "import warnings\r\n",
        "warnings.filterwarnings('ignore')"
      ],
      "execution_count": 3,
      "outputs": []
    },
    {
      "cell_type": "code",
      "metadata": {
        "id": "VIYVWb0tN2mM",
        "colab": {
          "base_uri": "https://localhost:8080/"
        },
        "outputId": "a60816fa-4fab-4eef-99fe-9ff4883ae8c0"
      },
      "source": [
        "(train_data, train_labels), (test_data, test_labels) = imdb.load_data(num_words=10000)"
      ],
      "execution_count": 4,
      "outputs": [
        {
          "output_type": "stream",
          "text": [
            "Downloading data from https://storage.googleapis.com/tensorflow/tf-keras-datasets/imdb.npz\n",
            "17465344/17464789 [==============================] - 0s 0us/step\n"
          ],
          "name": "stdout"
        }
      ]
    },
    {
      "cell_type": "code",
      "metadata": {
        "id": "ZwNvsYt_OPOL"
      },
      "source": [
        "# 매개변수 num_words = 10000\r\n",
        "# 훈련 데이터에서 가장 자주 나타나는 단어 10000개만 사용한다는 의미"
      ],
      "execution_count": null,
      "outputs": []
    },
    {
      "cell_type": "code",
      "metadata": {
        "colab": {
          "base_uri": "https://localhost:8080/"
        },
        "id": "EZ15dYvPN3dK",
        "outputId": "11b429cc-b27b-483b-b400-d44c75eb4ade"
      },
      "source": [
        "print(train_data.shape)\r\n",
        "print(train_labels[0])"
      ],
      "execution_count": 5,
      "outputs": [
        {
          "output_type": "stream",
          "text": [
            "(25000,)\n",
            "1\n"
          ],
          "name": "stdout"
        }
      ]
    },
    {
      "cell_type": "code",
      "metadata": {
        "id": "tAdtgxihO5g_"
      },
      "source": [
        "# 변수 train_data와 test_data는 리뷰 목록이며 단어 인덱스의 리스트이다.\r\n",
        "# 단어 시퀀스가 인코딩 된 것이다.\r\n",
        "# test_labels는 부정(0), 긍정(1)을 나타내는 리스트이다."
      ],
      "execution_count": null,
      "outputs": []
    },
    {
      "cell_type": "code",
      "metadata": {
        "colab": {
          "base_uri": "https://localhost:8080/"
        },
        "id": "-sqthqi9Pihb",
        "outputId": "81b64868-7c2f-4f9c-ac0e-ea44cdbfcde0"
      },
      "source": [
        "max([max(sequence) for sequence in train_data])"
      ],
      "execution_count": 6,
      "outputs": [
        {
          "output_type": "execute_result",
          "data": {
            "text/plain": [
              "9999"
            ]
          },
          "metadata": {
            "tags": []
          },
          "execution_count": 6
        }
      ]
    },
    {
      "cell_type": "code",
      "metadata": {
        "id": "d2D0UUl2kfu4",
        "colab": {
          "base_uri": "https://localhost:8080/"
        },
        "outputId": "b8459720-905e-4585-dadf-3b5d086d41b4"
      },
      "source": [
        "# 제일 긴 게 10000개, list는 0부터 시작. 0 ~ 9999이므로\r\n",
        "train_data[:5]"
      ],
      "execution_count": 7,
      "outputs": [
        {
          "output_type": "execute_result",
          "data": {
            "text/plain": [
              "array([list([1, 14, 22, 16, 43, 530, 973, 1622, 1385, 65, 458, 4468, 66, 3941, 4, 173, 36, 256, 5, 25, 100, 43, 838, 112, 50, 670, 2, 9, 35, 480, 284, 5, 150, 4, 172, 112, 167, 2, 336, 385, 39, 4, 172, 4536, 1111, 17, 546, 38, 13, 447, 4, 192, 50, 16, 6, 147, 2025, 19, 14, 22, 4, 1920, 4613, 469, 4, 22, 71, 87, 12, 16, 43, 530, 38, 76, 15, 13, 1247, 4, 22, 17, 515, 17, 12, 16, 626, 18, 2, 5, 62, 386, 12, 8, 316, 8, 106, 5, 4, 2223, 5244, 16, 480, 66, 3785, 33, 4, 130, 12, 16, 38, 619, 5, 25, 124, 51, 36, 135, 48, 25, 1415, 33, 6, 22, 12, 215, 28, 77, 52, 5, 14, 407, 16, 82, 2, 8, 4, 107, 117, 5952, 15, 256, 4, 2, 7, 3766, 5, 723, 36, 71, 43, 530, 476, 26, 400, 317, 46, 7, 4, 2, 1029, 13, 104, 88, 4, 381, 15, 297, 98, 32, 2071, 56, 26, 141, 6, 194, 7486, 18, 4, 226, 22, 21, 134, 476, 26, 480, 5, 144, 30, 5535, 18, 51, 36, 28, 224, 92, 25, 104, 4, 226, 65, 16, 38, 1334, 88, 12, 16, 283, 5, 16, 4472, 113, 103, 32, 15, 16, 5345, 19, 178, 32]),\n",
              "       list([1, 194, 1153, 194, 8255, 78, 228, 5, 6, 1463, 4369, 5012, 134, 26, 4, 715, 8, 118, 1634, 14, 394, 20, 13, 119, 954, 189, 102, 5, 207, 110, 3103, 21, 14, 69, 188, 8, 30, 23, 7, 4, 249, 126, 93, 4, 114, 9, 2300, 1523, 5, 647, 4, 116, 9, 35, 8163, 4, 229, 9, 340, 1322, 4, 118, 9, 4, 130, 4901, 19, 4, 1002, 5, 89, 29, 952, 46, 37, 4, 455, 9, 45, 43, 38, 1543, 1905, 398, 4, 1649, 26, 6853, 5, 163, 11, 3215, 2, 4, 1153, 9, 194, 775, 7, 8255, 2, 349, 2637, 148, 605, 2, 8003, 15, 123, 125, 68, 2, 6853, 15, 349, 165, 4362, 98, 5, 4, 228, 9, 43, 2, 1157, 15, 299, 120, 5, 120, 174, 11, 220, 175, 136, 50, 9, 4373, 228, 8255, 5, 2, 656, 245, 2350, 5, 4, 9837, 131, 152, 491, 18, 2, 32, 7464, 1212, 14, 9, 6, 371, 78, 22, 625, 64, 1382, 9, 8, 168, 145, 23, 4, 1690, 15, 16, 4, 1355, 5, 28, 6, 52, 154, 462, 33, 89, 78, 285, 16, 145, 95]),\n",
              "       list([1, 14, 47, 8, 30, 31, 7, 4, 249, 108, 7, 4, 5974, 54, 61, 369, 13, 71, 149, 14, 22, 112, 4, 2401, 311, 12, 16, 3711, 33, 75, 43, 1829, 296, 4, 86, 320, 35, 534, 19, 263, 4821, 1301, 4, 1873, 33, 89, 78, 12, 66, 16, 4, 360, 7, 4, 58, 316, 334, 11, 4, 1716, 43, 645, 662, 8, 257, 85, 1200, 42, 1228, 2578, 83, 68, 3912, 15, 36, 165, 1539, 278, 36, 69, 2, 780, 8, 106, 14, 6905, 1338, 18, 6, 22, 12, 215, 28, 610, 40, 6, 87, 326, 23, 2300, 21, 23, 22, 12, 272, 40, 57, 31, 11, 4, 22, 47, 6, 2307, 51, 9, 170, 23, 595, 116, 595, 1352, 13, 191, 79, 638, 89, 2, 14, 9, 8, 106, 607, 624, 35, 534, 6, 227, 7, 129, 113]),\n",
              "       list([1, 4, 2, 2, 33, 2804, 4, 2040, 432, 111, 153, 103, 4, 1494, 13, 70, 131, 67, 11, 61, 2, 744, 35, 3715, 761, 61, 5766, 452, 9214, 4, 985, 7, 2, 59, 166, 4, 105, 216, 1239, 41, 1797, 9, 15, 7, 35, 744, 2413, 31, 8, 4, 687, 23, 4, 2, 7339, 6, 3693, 42, 38, 39, 121, 59, 456, 10, 10, 7, 265, 12, 575, 111, 153, 159, 59, 16, 1447, 21, 25, 586, 482, 39, 4, 96, 59, 716, 12, 4, 172, 65, 9, 579, 11, 6004, 4, 1615, 5, 2, 7, 5168, 17, 13, 7064, 12, 19, 6, 464, 31, 314, 11, 2, 6, 719, 605, 11, 8, 202, 27, 310, 4, 3772, 3501, 8, 2722, 58, 10, 10, 537, 2116, 180, 40, 14, 413, 173, 7, 263, 112, 37, 152, 377, 4, 537, 263, 846, 579, 178, 54, 75, 71, 476, 36, 413, 263, 2504, 182, 5, 17, 75, 2306, 922, 36, 279, 131, 2895, 17, 2867, 42, 17, 35, 921, 2, 192, 5, 1219, 3890, 19, 2, 217, 4122, 1710, 537, 2, 1236, 5, 736, 10, 10, 61, 403, 9, 2, 40, 61, 4494, 5, 27, 4494, 159, 90, 263, 2311, 4319, 309, 8, 178, 5, 82, 4319, 4, 65, 15, 9225, 145, 143, 5122, 12, 7039, 537, 746, 537, 537, 15, 7979, 4, 2, 594, 7, 5168, 94, 9096, 3987, 2, 11, 2, 4, 538, 7, 1795, 246, 2, 9, 2, 11, 635, 14, 9, 51, 408, 12, 94, 318, 1382, 12, 47, 6, 2683, 936, 5, 6307, 2, 19, 49, 7, 4, 1885, 2, 1118, 25, 80, 126, 842, 10, 10, 2, 2, 4726, 27, 4494, 11, 1550, 3633, 159, 27, 341, 29, 2733, 19, 4185, 173, 7, 90, 2, 8, 30, 11, 4, 1784, 86, 1117, 8, 3261, 46, 11, 2, 21, 29, 9, 2841, 23, 4, 1010, 2, 793, 6, 2, 1386, 1830, 10, 10, 246, 50, 9, 6, 2750, 1944, 746, 90, 29, 2, 8, 124, 4, 882, 4, 882, 496, 27, 2, 2213, 537, 121, 127, 1219, 130, 5, 29, 494, 8, 124, 4, 882, 496, 4, 341, 7, 27, 846, 10, 10, 29, 9, 1906, 8, 97, 6, 236, 2, 1311, 8, 4, 2, 7, 31, 7, 2, 91, 2, 3987, 70, 4, 882, 30, 579, 42, 9, 12, 32, 11, 537, 10, 10, 11, 14, 65, 44, 537, 75, 2, 1775, 3353, 2, 1846, 4, 2, 7, 154, 5, 4, 518, 53, 2, 2, 7, 3211, 882, 11, 399, 38, 75, 257, 3807, 19, 2, 17, 29, 456, 4, 65, 7, 27, 205, 113, 10, 10, 2, 4, 2, 2, 9, 242, 4, 91, 1202, 2, 5, 2070, 307, 22, 7, 5168, 126, 93, 40, 2, 13, 188, 1076, 3222, 19, 4, 2, 7, 2348, 537, 23, 53, 537, 21, 82, 40, 2, 13, 2, 14, 280, 13, 219, 4, 2, 431, 758, 859, 4, 953, 1052, 2, 7, 5991, 5, 94, 40, 25, 238, 60, 2, 4, 2, 804, 2, 7, 4, 9941, 132, 8, 67, 6, 22, 15, 9, 283, 8, 5168, 14, 31, 9, 242, 955, 48, 25, 279, 2, 23, 12, 1685, 195, 25, 238, 60, 796, 2, 4, 671, 7, 2804, 5, 4, 559, 154, 888, 7, 726, 50, 26, 49, 7008, 15, 566, 30, 579, 21, 64, 2574]),\n",
              "       list([1, 249, 1323, 7, 61, 113, 10, 10, 13, 1637, 14, 20, 56, 33, 2401, 18, 457, 88, 13, 2626, 1400, 45, 3171, 13, 70, 79, 49, 706, 919, 13, 16, 355, 340, 355, 1696, 96, 143, 4, 22, 32, 289, 7, 61, 369, 71, 2359, 5, 13, 16, 131, 2073, 249, 114, 249, 229, 249, 20, 13, 28, 126, 110, 13, 473, 8, 569, 61, 419, 56, 429, 6, 1513, 18, 35, 534, 95, 474, 570, 5, 25, 124, 138, 88, 12, 421, 1543, 52, 725, 6397, 61, 419, 11, 13, 1571, 15, 1543, 20, 11, 4, 2, 5, 296, 12, 3524, 5, 15, 421, 128, 74, 233, 334, 207, 126, 224, 12, 562, 298, 2167, 1272, 7, 2601, 5, 516, 988, 43, 8, 79, 120, 15, 595, 13, 784, 25, 3171, 18, 165, 170, 143, 19, 14, 5, 7224, 6, 226, 251, 7, 61, 113])],\n",
              "      dtype=object)"
            ]
          },
          "metadata": {
            "tags": []
          },
          "execution_count": 7
        }
      ]
    },
    {
      "cell_type": "code",
      "metadata": {
        "colab": {
          "base_uri": "https://localhost:8080/"
        },
        "id": "LLv2Ko1bBcrC",
        "outputId": "e2177247-cf18-4e74-d496-facd8a6a61af"
      },
      "source": [
        "# word_index는 단어와 정수 인덱스를 매핑한 딕셔너리입니다.\r\n",
        "word_index = imdb.get_word_index()\r\n",
        "\r\n",
        "# 정수 인덱스와 단어를 매핑하도록 뒤집습니다.\r\n",
        "reverse_word_index = dict\r\n"
      ],
      "execution_count": 8,
      "outputs": [
        {
          "output_type": "stream",
          "text": [
            "Downloading data from https://storage.googleapis.com/tensorflow/tf-keras-datasets/imdb_word_index.json\n",
            "1646592/1641221 [==============================] - 0s 0us/step\n"
          ],
          "name": "stdout"
        }
      ]
    },
    {
      "cell_type": "markdown",
      "metadata": {
        "id": "YNl_1N5KB34L"
      },
      "source": [
        "# 데이터 준비\r\n",
        "신경망에 숫자 리스트를 주입할 수는 없다. 리스트를 텐서 데이터 준비\r\n",
        "신경망에 숫자 리스트를 주입할 수는 없다. 리스트를 텐서로 바꾸어 주어야 한다.\r\n",
        "\r\n",
        "- 같은 길이가 되도록 리스트에 패딩을 추가하고(samples, sequence_length) 크기의 정수 텐서로 전환환 다음 이 정수 텐서를 다룰 수 있는 층을 신경망의 첫번째 층으로 사용\r\n",
        "- 리스트를 원-핫 인코딩하여 0과 1의 벡터로 변환한다. 예를 들어 [3,5]를 3과 5 위치는 1이고 나머지는 0인 1000 차원 벡터로 변환\r\n",
        "\r\n"
      ]
    },
    {
      "cell_type": "code",
      "metadata": {
        "id": "zKYrU_HiDp2Y"
      },
      "source": [
        "# axis의미의 dimension, feature의미의 dimension\r\n",
        "# 2가지 의미로 쓰임(1D,2D,3D 텐서, PCA에서의 차원축소)"
      ],
      "execution_count": null,
      "outputs": []
    },
    {
      "cell_type": "code",
      "metadata": {
        "id": "TmpeQWokCx3C"
      },
      "source": [
        "import numpy as np\r\n",
        "def vectorize_sequences(sequences, dimension=10000):\r\n",
        "  results = np.zeros((len(sequences), dimension))\r\n",
        "  for i, sequence in enumerate(sequences):\r\n",
        "    results[i, sequence] = 1. #results[i]에서 특정 인덱스의 위치를 1로 만든다.\r\n",
        "  return results"
      ],
      "execution_count": 15,
      "outputs": []
    },
    {
      "cell_type": "code",
      "metadata": {
        "id": "lAaQImBkGKjG"
      },
      "source": [
        "x_train = vectorize_sequences(train_data)\r\n",
        "x_test = vectorize_sequences(test_data)"
      ],
      "execution_count": 16,
      "outputs": []
    },
    {
      "cell_type": "code",
      "metadata": {
        "colab": {
          "base_uri": "https://localhost:8080/"
        },
        "id": "qcONDdisFGcp",
        "outputId": "38d9a10e-1ec2-4c8d-efcc-af42a06aca72"
      },
      "source": [
        "x_train[:5]"
      ],
      "execution_count": 17,
      "outputs": [
        {
          "output_type": "execute_result",
          "data": {
            "text/plain": [
              "array([[0., 1., 1., ..., 0., 0., 0.],\n",
              "       [0., 1., 1., ..., 0., 0., 0.],\n",
              "       [0., 1., 1., ..., 0., 0., 0.],\n",
              "       [0., 1., 1., ..., 0., 0., 0.],\n",
              "       [0., 1., 1., ..., 0., 0., 0.]])"
            ]
          },
          "metadata": {
            "tags": []
          },
          "execution_count": 17
        }
      ]
    },
    {
      "cell_type": "code",
      "metadata": {
        "colab": {
          "base_uri": "https://localhost:8080/"
        },
        "id": "Fwf9dEBdFHow",
        "outputId": "7e5c7c0c-b787-48dc-fd83-723500345e28"
      },
      "source": [
        "x_train.shape"
      ],
      "execution_count": 18,
      "outputs": [
        {
          "output_type": "execute_result",
          "data": {
            "text/plain": [
              "(25000, 10000)"
            ]
          },
          "metadata": {
            "tags": []
          },
          "execution_count": 18
        }
      ]
    },
    {
      "cell_type": "code",
      "metadata": {
        "id": "hXPXOqiuG9mY"
      },
      "source": [
        "y_train = np.asarray(train_labels).astype('float32')\r\n",
        "y_test = np.asarray(test_labels).astype('float32')"
      ],
      "execution_count": 19,
      "outputs": []
    },
    {
      "cell_type": "code",
      "metadata": {
        "colab": {
          "base_uri": "https://localhost:8080/"
        },
        "id": "UdLG0sjjHIF3",
        "outputId": "a57ed21b-876a-479d-d057-c773fae595a5"
      },
      "source": [
        "y_train[:5]"
      ],
      "execution_count": 20,
      "outputs": [
        {
          "output_type": "execute_result",
          "data": {
            "text/plain": [
              "array([1., 0., 0., 1., 0.], dtype=float32)"
            ]
          },
          "metadata": {
            "tags": []
          },
          "execution_count": 20
        }
      ]
    },
    {
      "cell_type": "markdown",
      "metadata": {
        "id": "gxCYkB69I1ja"
      },
      "source": [
        "\r\n",
        "신경망 모델 만들기\r\n",
        "Dense 층을 쌓을 때 중요한 구조상의 결정 필요\r\n",
        "- 얼마나 많은 층을 사용할 것인가?\r\n",
        "- 각 층에 얼마나 많은 은닉 유닛을 둘 것인가?"
      ]
    },
    {
      "cell_type": "code",
      "metadata": {
        "id": "M1-NkzS2HSOF"
      },
      "source": [
        "from keras import models\r\n",
        "from keras import layers\r\n",
        "\r\n",
        "model = models.Sequential()\r\n",
        "model.add(layers.Dense(16, activation='relu', input_shape=(10000,)))\r\n",
        "model.add(layers.Dense(16, activation='relu'))\r\n",
        "model.add(layers.Dense(1, activation='sigmoid'))"
      ],
      "execution_count": 10,
      "outputs": []
    },
    {
      "cell_type": "markdown",
      "metadata": {
        "id": "Mvfl7WjAJmmY"
      },
      "source": [
        "컴파일\r\n",
        "- 손실함수\r\n",
        "- 옵티마이저\r\n",
        "- 모니터링 방법"
      ]
    },
    {
      "cell_type": "code",
      "metadata": {
        "id": "Ufpzp41pIgQb"
      },
      "source": [
        "model.compile(optimizer='rmsprop', loss='binary_crossentropy',\r\n",
        "              metrics=['accuracy'])"
      ],
      "execution_count": 22,
      "outputs": []
    },
    {
      "cell_type": "code",
      "metadata": {
        "id": "qBIc0y47KGJz"
      },
      "source": [
        "# 훈련 검증: 10000개 샘플을 검증세트로 분리\r\n",
        "x_val = x_train[:10000]\r\n",
        "partial_x_train = x_train[10000:]\r\n",
        "\r\n",
        "y_val = y_train[:10000]\r\n",
        "partial_y_train= y_train[10000:]"
      ],
      "execution_count": 21,
      "outputs": []
    },
    {
      "cell_type": "code",
      "metadata": {
        "colab": {
          "base_uri": "https://localhost:8080/"
        },
        "id": "ezsiJkTwM0cS",
        "outputId": "6d8ad697-3c0a-4cf4-9f80-289e58552bc3"
      },
      "source": [
        "# 512개씩 미니 배치로 만들어 20번의 에포크 동안 훈련\r\n",
        "history = model.fit(partial_x_train,\r\n",
        "                    partial_y_train,\r\n",
        "                    epochs=20,\r\n",
        "                    batch_size=512,\r\n",
        "                    validation_data=(x_val,y_val))"
      ],
      "execution_count": 23,
      "outputs": [
        {
          "output_type": "stream",
          "text": [
            "Epoch 1/20\n",
            "30/30 [==============================] - 4s 31ms/step - loss: 0.6404 - accuracy: 0.6143 - val_loss: 0.4967 - val_accuracy: 0.7840\n",
            "Epoch 2/20\n",
            "30/30 [==============================] - 1s 21ms/step - loss: 0.4358 - accuracy: 0.8754 - val_loss: 0.3834 - val_accuracy: 0.8815\n",
            "Epoch 3/20\n",
            "30/30 [==============================] - 1s 22ms/step - loss: 0.3063 - accuracy: 0.9200 - val_loss: 0.3228 - val_accuracy: 0.8772\n",
            "Epoch 4/20\n",
            "30/30 [==============================] - 1s 21ms/step - loss: 0.2375 - accuracy: 0.9328 - val_loss: 0.2972 - val_accuracy: 0.8839\n",
            "Epoch 5/20\n",
            "30/30 [==============================] - 1s 22ms/step - loss: 0.1796 - accuracy: 0.9514 - val_loss: 0.2986 - val_accuracy: 0.8810\n",
            "Epoch 6/20\n",
            "30/30 [==============================] - 1s 21ms/step - loss: 0.1492 - accuracy: 0.9577 - val_loss: 0.2772 - val_accuracy: 0.8903\n",
            "Epoch 7/20\n",
            "30/30 [==============================] - 1s 21ms/step - loss: 0.1219 - accuracy: 0.9679 - val_loss: 0.2929 - val_accuracy: 0.8866\n",
            "Epoch 8/20\n",
            "30/30 [==============================] - 1s 21ms/step - loss: 0.1031 - accuracy: 0.9722 - val_loss: 0.2985 - val_accuracy: 0.8867\n",
            "Epoch 9/20\n",
            "30/30 [==============================] - 1s 21ms/step - loss: 0.0810 - accuracy: 0.9828 - val_loss: 0.3141 - val_accuracy: 0.8820\n",
            "Epoch 10/20\n",
            "30/30 [==============================] - 1s 22ms/step - loss: 0.0673 - accuracy: 0.9856 - val_loss: 0.3382 - val_accuracy: 0.8840\n",
            "Epoch 11/20\n",
            "30/30 [==============================] - 1s 21ms/step - loss: 0.0565 - accuracy: 0.9893 - val_loss: 0.3616 - val_accuracy: 0.8745\n",
            "Epoch 12/20\n",
            "30/30 [==============================] - 1s 22ms/step - loss: 0.0472 - accuracy: 0.9908 - val_loss: 0.3871 - val_accuracy: 0.8804\n",
            "Epoch 13/20\n",
            "30/30 [==============================] - 1s 21ms/step - loss: 0.0372 - accuracy: 0.9933 - val_loss: 0.3967 - val_accuracy: 0.8771\n",
            "Epoch 14/20\n",
            "30/30 [==============================] - 1s 21ms/step - loss: 0.0288 - accuracy: 0.9962 - val_loss: 0.4230 - val_accuracy: 0.8720\n",
            "Epoch 15/20\n",
            "30/30 [==============================] - 1s 21ms/step - loss: 0.0266 - accuracy: 0.9974 - val_loss: 0.4471 - val_accuracy: 0.8722\n",
            "Epoch 16/20\n",
            "30/30 [==============================] - 1s 20ms/step - loss: 0.0191 - accuracy: 0.9984 - val_loss: 0.4898 - val_accuracy: 0.8663\n",
            "Epoch 17/20\n",
            "30/30 [==============================] - 1s 21ms/step - loss: 0.0172 - accuracy: 0.9979 - val_loss: 0.4997 - val_accuracy: 0.8734\n",
            "Epoch 18/20\n",
            "30/30 [==============================] - 1s 20ms/step - loss: 0.0112 - accuracy: 0.9993 - val_loss: 0.5285 - val_accuracy: 0.8695\n",
            "Epoch 19/20\n",
            "30/30 [==============================] - 1s 20ms/step - loss: 0.0103 - accuracy: 0.9989 - val_loss: 0.5610 - val_accuracy: 0.8676\n",
            "Epoch 20/20\n",
            "30/30 [==============================] - 1s 19ms/step - loss: 0.0085 - accuracy: 0.9992 - val_loss: 0.5904 - val_accuracy: 0.8689\n"
          ],
          "name": "stdout"
        }
      ]
    },
    {
      "cell_type": "code",
      "metadata": {
        "id": "AXtyTlfrNvP8"
      },
      "source": [
        "history_dict = history.history"
      ],
      "execution_count": 24,
      "outputs": []
    },
    {
      "cell_type": "code",
      "metadata": {
        "colab": {
          "base_uri": "https://localhost:8080/"
        },
        "id": "NmpXf92EKuP-",
        "outputId": "b42660c3-80cc-4726-bda6-1819528b5941"
      },
      "source": [
        "history_dict"
      ],
      "execution_count": 27,
      "outputs": [
        {
          "output_type": "execute_result",
          "data": {
            "text/plain": [
              "{'accuracy': [0.7025333046913147,\n",
              "  0.8835999965667725,\n",
              "  0.9196666479110718,\n",
              "  0.9333333373069763,\n",
              "  0.947866678237915,\n",
              "  0.9578666687011719,\n",
              "  0.9672666788101196,\n",
              "  0.9721999764442444,\n",
              "  0.9787333607673645,\n",
              "  0.9844666719436646,\n",
              "  0.9881333112716675,\n",
              "  0.9907333254814148,\n",
              "  0.9920666813850403,\n",
              "  0.9954000115394592,\n",
              "  0.9968000054359436,\n",
              "  0.9979333281517029,\n",
              "  0.998199999332428,\n",
              "  0.998533308506012,\n",
              "  0.9990000128746033,\n",
              "  0.9990000128746033],\n",
              " 'loss': [0.5935881733894348,\n",
              "  0.4084914028644562,\n",
              "  0.29334378242492676,\n",
              "  0.2276841104030609,\n",
              "  0.17853191494941711,\n",
              "  0.14835166931152344,\n",
              "  0.1208660826086998,\n",
              "  0.10303182899951935,\n",
              "  0.08448729664087296,\n",
              "  0.06916572153568268,\n",
              "  0.05748559907078743,\n",
              "  0.047158557921648026,\n",
              "  0.041091397404670715,\n",
              "  0.03187975287437439,\n",
              "  0.026338083669543266,\n",
              "  0.02082093432545662,\n",
              "  0.017787478864192963,\n",
              "  0.014164049178361893,\n",
              "  0.010691259987652302,\n",
              "  0.009442918002605438],\n",
              " 'val_accuracy': [0.7839999794960022,\n",
              "  0.8815000057220459,\n",
              "  0.8772000074386597,\n",
              "  0.883899986743927,\n",
              "  0.8809999823570251,\n",
              "  0.8902999758720398,\n",
              "  0.8866000175476074,\n",
              "  0.8866999745368958,\n",
              "  0.8820000290870667,\n",
              "  0.8840000033378601,\n",
              "  0.8744999766349792,\n",
              "  0.8804000020027161,\n",
              "  0.8770999908447266,\n",
              "  0.871999979019165,\n",
              "  0.8722000122070312,\n",
              "  0.8662999868392944,\n",
              "  0.8733999729156494,\n",
              "  0.8694999814033508,\n",
              "  0.8676000237464905,\n",
              "  0.8689000010490417],\n",
              " 'val_loss': [0.4967310428619385,\n",
              "  0.38340872526168823,\n",
              "  0.32283341884613037,\n",
              "  0.29716014862060547,\n",
              "  0.2986010015010834,\n",
              "  0.2771865129470825,\n",
              "  0.29287341237068176,\n",
              "  0.2985169291496277,\n",
              "  0.31414803862571716,\n",
              "  0.33818119764328003,\n",
              "  0.3616016209125519,\n",
              "  0.3870512545108795,\n",
              "  0.39668744802474976,\n",
              "  0.42300713062286377,\n",
              "  0.44708120822906494,\n",
              "  0.48984986543655396,\n",
              "  0.4997172951698303,\n",
              "  0.5285159945487976,\n",
              "  0.5609791278839111,\n",
              "  0.5903902649879456]}"
            ]
          },
          "metadata": {
            "tags": []
          },
          "execution_count": 27
        }
      ]
    },
    {
      "cell_type": "code",
      "metadata": {
        "colab": {
          "base_uri": "https://localhost:8080/",
          "height": 295
        },
        "id": "3ozSoFkQOMhw",
        "outputId": "2e10484c-b405-4541-854d-1a4941ffae48"
      },
      "source": [
        "import matplotlib.pyplot as plt\r\n",
        "\r\n",
        "acc = history.history['accuracy']\r\n",
        "val_acc = history.history['val_accuracy']\r\n",
        "loss = history.history['loss']\r\n",
        "val_loss = history.history['val_loss']\r\n",
        "\r\n",
        "epochs = range(1, len(acc) + 1)\r\n",
        "\r\n",
        "plt.plot(epochs, loss, 'bo', label='Training loss')\r\n",
        "plt.plot(epochs, val_loss, 'b', label='Validation loss')\r\n",
        "plt.title('Training and validation loss')\r\n",
        "plt.xlabel('Epochs')\r\n",
        "plt.ylabel('Loss')\r\n",
        "plt.legend()\r\n",
        "plt.show()"
      ],
      "execution_count": 29,
      "outputs": [
        {
          "output_type": "display_data",
          "data": {
            "image/png": "[encoded data removed]",
            "text/plain": [
              "<Figure size 432x288 with 1 Axes>"
            ]
          },
          "metadata": {
            "tags": [],
            "needs_background": "light"
          }
        }
      ]
    },
    {
      "cell_type": "code",
      "metadata": {
        "id": "ACf1AfrCPDlX"
      },
      "source": [
        "# 검증용 데이터셋은 5 epoch부터 loss가 올라간다\r\n",
        "# 검증용 데이터셋에서는 검증용 데이터셋은 5 epoch부터 loss가 올라간다\r\n",
        "# 검증용 데이터셋에서는 과적합이 심하게 나타났다. 과적합이 심하게 나타났다."
      ],
      "execution_count": null,
      "outputs": []
    },
    {
      "cell_type": "code",
      "metadata": {
        "id": "I297hsoJMr7m"
      },
      "source": [
        "history_dict = history.history"
      ],
      "execution_count": 31,
      "outputs": []
    },
    {
      "cell_type": "code",
      "metadata": {
        "colab": {
          "base_uri": "https://localhost:8080/",
          "height": 295
        },
        "id": "5d1DSe3_L6Ci",
        "outputId": "6b041e5c-621a-4afc-f142-e33afad98c69"
      },
      "source": [
        "plt.clf() # 그래프 초기화\r\n",
        "acc = history_dict['accuracy']\r\n",
        "val_acc = history_dict['val_accuracy']\r\n",
        "\r\n",
        "plt.plot(epochs, acc, 'bo', label='Training acc')\r\n",
        "plt.plot(epochs, val_acc, 'b', label='Validation acc')\r\n",
        "plt.title('Training and validation accuracy')\r\n",
        "plt.xlabel('Epochs')\r\n",
        "plt.ylabel('Accuacy')\r\n",
        "plt.legend()\r\n",
        "plt.show()"
      ],
      "execution_count": 33,
      "outputs": [
        {
          "output_type": "display_data",
          "data": {
            "image/png": "[encoded data removed]",
            "text/plain": [
              "<Figure size 432x288 with 1 Axes>"
            ]
          },
          "metadata": {
            "tags": [],
            "needs_background": "light"
          }
        }
      ]
    },
    {
      "cell_type": "code",
      "metadata": {
        "colab": {
          "base_uri": "https://localhost:8080/"
        },
        "id": "dbVTFfAaM2BD",
        "outputId": "b42fa633-01c2-4be9-adf8-f8d0c3a4853b"
      },
      "source": [
        "model.fit(x_train, y_train, epochs=4, batch_size=512)\r\n",
        "results = model.evaluate(x_test, y_test)"
      ],
      "execution_count": 36,
      "outputs": [
        {
          "output_type": "stream",
          "text": [
            "Epoch 1/4\n",
            "49/49 [==============================] - 1s 12ms/step - loss: 0.0597 - accuracy: 0.9838\n",
            "Epoch 2/4\n",
            "49/49 [==============================] - 1s 11ms/step - loss: 0.0470 - accuracy: 0.9874\n",
            "Epoch 3/4\n",
            "49/49 [==============================] - 1s 12ms/step - loss: 0.0368 - accuracy: 0.9909\n",
            "Epoch 4/4\n",
            "49/49 [==============================] - 1s 11ms/step - loss: 0.0289 - accuracy: 0.9931\n",
            "782/782 [==============================] - 2s 2ms/step - loss: 0.5859 - accuracy: 0.8527\n"
          ],
          "name": "stdout"
        }
      ]
    },
    {
      "cell_type": "code",
      "metadata": {
        "colab": {
          "base_uri": "https://localhost:8080/"
        },
        "id": "laR_F6KnN3pv",
        "outputId": "070240dc-173e-4f86-e1f3-f49550fbfa9a"
      },
      "source": [
        "results"
      ],
      "execution_count": 37,
      "outputs": [
        {
          "output_type": "execute_result",
          "data": {
            "text/plain": [
              "[0.5858723521232605, 0.8526800274848938]"
            ]
          },
          "metadata": {
            "tags": []
          },
          "execution_count": 37
        }
      ]
    },
    {
      "cell_type": "code",
      "metadata": {
        "colab": {
          "base_uri": "https://localhost:8080/"
        },
        "id": "6omfX3gtN5Lr",
        "outputId": "c49a51c9-7812-4902-d099-ec92801f3ac9"
      },
      "source": [
        "model.predict(x_test)"
      ],
      "execution_count": 38,
      "outputs": [
        {
          "output_type": "execute_result",
          "data": {
            "text/plain": [
              "array([[0.0173765 ],\n",
              "       [1.        ],\n",
              "       [0.9757236 ],\n",
              "       ...,\n",
              "       [0.02227287],\n",
              "       [0.01717987],\n",
              "       [0.9680218 ]], dtype=float32)"
            ]
          },
          "metadata": {
            "tags": []
          },
          "execution_count": 38
        }
      ]
    }
  ]
}